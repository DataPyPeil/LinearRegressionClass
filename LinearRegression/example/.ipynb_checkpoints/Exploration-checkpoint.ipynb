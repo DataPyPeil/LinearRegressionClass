{
 "cells": [
  {
   "cell_type": "code",
   "execution_count": 2,
   "id": "2ad1ec9e-5e88-4f7e-85c2-78ba5861d933",
   "metadata": {},
   "outputs": [],
   "source": [
    "import pandas as pd\n",
    "import numpy as np\n",
    "import seaborn as sns\n",
    "import matplotlib.pyplot as plt\n",
    "from pathlib import Path\n",
    "from LinearRegression import LinearRegression"
   ]
  },
  {
   "cell_type": "code",
   "execution_count": 3,
   "id": "f0fdfa73-53d3-4382-aff9-77496b084176",
   "metadata": {},
   "outputs": [
    {
     "data": {
      "text/html": [
       "<div>\n",
       "<style scoped>\n",
       "    .dataframe tbody tr th:only-of-type {\n",
       "        vertical-align: middle;\n",
       "    }\n",
       "\n",
       "    .dataframe tbody tr th {\n",
       "        vertical-align: top;\n",
       "    }\n",
       "\n",
       "    .dataframe thead th {\n",
       "        text-align: right;\n",
       "    }\n",
       "</style>\n",
       "<table border=\"1\" class=\"dataframe\">\n",
       "  <thead>\n",
       "    <tr style=\"text-align: right;\">\n",
       "      <th></th>\n",
       "      <th>Marketing Spend</th>\n",
       "      <th>Administration</th>\n",
       "      <th>Transport</th>\n",
       "      <th>Area</th>\n",
       "      <th>Profit</th>\n",
       "    </tr>\n",
       "  </thead>\n",
       "  <tbody>\n",
       "    <tr>\n",
       "      <th>0</th>\n",
       "      <td>114523.61</td>\n",
       "      <td>136897.80</td>\n",
       "      <td>471784.10</td>\n",
       "      <td>Dhaka</td>\n",
       "      <td>192261.83</td>\n",
       "    </tr>\n",
       "    <tr>\n",
       "      <th>1</th>\n",
       "      <td>162597.70</td>\n",
       "      <td>151377.59</td>\n",
       "      <td>443898.53</td>\n",
       "      <td>Ctg</td>\n",
       "      <td>191792.06</td>\n",
       "    </tr>\n",
       "    <tr>\n",
       "      <th>2</th>\n",
       "      <td>153441.51</td>\n",
       "      <td>101145.55</td>\n",
       "      <td>407934.54</td>\n",
       "      <td>Rangpur</td>\n",
       "      <td>191050.39</td>\n",
       "    </tr>\n",
       "    <tr>\n",
       "      <th>3</th>\n",
       "      <td>144372.41</td>\n",
       "      <td>118671.85</td>\n",
       "      <td>383199.62</td>\n",
       "      <td>Dhaka</td>\n",
       "      <td>182901.99</td>\n",
       "    </tr>\n",
       "    <tr>\n",
       "      <th>4</th>\n",
       "      <td>142107.34</td>\n",
       "      <td>91391.77</td>\n",
       "      <td>366168.42</td>\n",
       "      <td>Rangpur</td>\n",
       "      <td>166187.94</td>\n",
       "    </tr>\n",
       "    <tr>\n",
       "      <th>5</th>\n",
       "      <td>131876.90</td>\n",
       "      <td>99814.71</td>\n",
       "      <td>362861.36</td>\n",
       "      <td>Dhaka</td>\n",
       "      <td>156991.12</td>\n",
       "    </tr>\n",
       "    <tr>\n",
       "      <th>6</th>\n",
       "      <td>134615.46</td>\n",
       "      <td>147198.87</td>\n",
       "      <td>127716.82</td>\n",
       "      <td>Ctg</td>\n",
       "      <td>156122.51</td>\n",
       "    </tr>\n",
       "    <tr>\n",
       "      <th>7</th>\n",
       "      <td>130298.13</td>\n",
       "      <td>145530.06</td>\n",
       "      <td>323876.68</td>\n",
       "      <td>Rangpur</td>\n",
       "      <td>155752.60</td>\n",
       "    </tr>\n",
       "    <tr>\n",
       "      <th>8</th>\n",
       "      <td>120542.52</td>\n",
       "      <td>148718.95</td>\n",
       "      <td>311613.29</td>\n",
       "      <td>Dhaka</td>\n",
       "      <td>152211.77</td>\n",
       "    </tr>\n",
       "    <tr>\n",
       "      <th>9</th>\n",
       "      <td>123334.88</td>\n",
       "      <td>108679.17</td>\n",
       "      <td>304981.62</td>\n",
       "      <td>Ctg</td>\n",
       "      <td>149759.96</td>\n",
       "    </tr>\n",
       "  </tbody>\n",
       "</table>\n",
       "</div>"
      ],
      "text/plain": [
       "   Marketing Spend  Administration  Transport     Area     Profit\n",
       "0        114523.61       136897.80  471784.10    Dhaka  192261.83\n",
       "1        162597.70       151377.59  443898.53      Ctg  191792.06\n",
       "2        153441.51       101145.55  407934.54  Rangpur  191050.39\n",
       "3        144372.41       118671.85  383199.62    Dhaka  182901.99\n",
       "4        142107.34        91391.77  366168.42  Rangpur  166187.94\n",
       "5        131876.90        99814.71  362861.36    Dhaka  156991.12\n",
       "6        134615.46       147198.87  127716.82      Ctg  156122.51\n",
       "7        130298.13       145530.06  323876.68  Rangpur  155752.60\n",
       "8        120542.52       148718.95  311613.29    Dhaka  152211.77\n",
       "9        123334.88       108679.17  304981.62      Ctg  149759.96"
      ]
     },
     "execution_count": 3,
     "metadata": {},
     "output_type": "execute_result"
    }
   ],
   "source": [
    "data_path = Path.cwd()\n",
    "df = pd.read_csv(data_path / 'Company_data.csv')\n",
    "df.head(10)"
   ]
  },
  {
   "cell_type": "code",
   "execution_count": 9,
   "id": "747bb7e7-5e9f-46ba-9212-b1bbf8827905",
   "metadata": {},
   "outputs": [
    {
     "data": {
      "text/plain": [
       "array([False])"
      ]
     },
     "execution_count": 9,
     "metadata": {},
     "output_type": "execute_result"
    }
   ],
   "source": [
    "df['Marketing Spend'].isna().unique()"
   ]
  },
  {
   "cell_type": "markdown",
   "id": "27667f6d-5c3c-493d-aac4-fd251062ba30",
   "metadata": {},
   "source": [
    "## Visualize data"
   ]
  },
  {
   "cell_type": "code",
   "execution_count": null,
   "id": "a83320fe-d349-4945-85d3-b40900c66452",
   "metadata": {},
   "outputs": [],
   "source": [
    "sns.pairplot(df, hue='Area')"
   ]
  },
  {
   "cell_type": "code",
   "execution_count": null,
   "id": "5c193a71-f3b0-482a-8095-e1325f3b4523",
   "metadata": {},
   "outputs": [],
   "source": [
    "numeric_df = df.select_dtypes(include=[np.number])\n",
    "sns.heatmap(numeric_df.corr(), annot=True, cmap='coolwarm')"
   ]
  },
  {
   "cell_type": "markdown",
   "id": "052c3adb-45fc-44a1-b739-36b597f40278",
   "metadata": {},
   "source": [
    "# Prepare data"
   ]
  },
  {
   "cell_type": "code",
   "execution_count": 3,
   "id": "b0285a6f-fb04-42dc-8a31-2670c99dd86c",
   "metadata": {},
   "outputs": [
    {
     "data": {
      "text/html": [
       "<div>\n",
       "<style scoped>\n",
       "    .dataframe tbody tr th:only-of-type {\n",
       "        vertical-align: middle;\n",
       "    }\n",
       "\n",
       "    .dataframe tbody tr th {\n",
       "        vertical-align: top;\n",
       "    }\n",
       "\n",
       "    .dataframe thead th {\n",
       "        text-align: right;\n",
       "    }\n",
       "</style>\n",
       "<table border=\"1\" class=\"dataframe\">\n",
       "  <thead>\n",
       "    <tr style=\"text-align: right;\">\n",
       "      <th></th>\n",
       "      <th>Marketing Spend</th>\n",
       "      <th>Administration</th>\n",
       "      <th>Transport</th>\n",
       "      <th>Profit</th>\n",
       "    </tr>\n",
       "  </thead>\n",
       "  <tbody>\n",
       "    <tr>\n",
       "      <th>0</th>\n",
       "      <td>114523.61</td>\n",
       "      <td>136897.80</td>\n",
       "      <td>471784.10</td>\n",
       "      <td>192261.83</td>\n",
       "    </tr>\n",
       "    <tr>\n",
       "      <th>1</th>\n",
       "      <td>162597.70</td>\n",
       "      <td>151377.59</td>\n",
       "      <td>443898.53</td>\n",
       "      <td>191792.06</td>\n",
       "    </tr>\n",
       "    <tr>\n",
       "      <th>2</th>\n",
       "      <td>153441.51</td>\n",
       "      <td>101145.55</td>\n",
       "      <td>407934.54</td>\n",
       "      <td>191050.39</td>\n",
       "    </tr>\n",
       "    <tr>\n",
       "      <th>3</th>\n",
       "      <td>144372.41</td>\n",
       "      <td>118671.85</td>\n",
       "      <td>383199.62</td>\n",
       "      <td>182901.99</td>\n",
       "    </tr>\n",
       "    <tr>\n",
       "      <th>4</th>\n",
       "      <td>142107.34</td>\n",
       "      <td>91391.77</td>\n",
       "      <td>366168.42</td>\n",
       "      <td>166187.94</td>\n",
       "    </tr>\n",
       "    <tr>\n",
       "      <th>5</th>\n",
       "      <td>131876.90</td>\n",
       "      <td>99814.71</td>\n",
       "      <td>362861.36</td>\n",
       "      <td>156991.12</td>\n",
       "    </tr>\n",
       "    <tr>\n",
       "      <th>6</th>\n",
       "      <td>134615.46</td>\n",
       "      <td>147198.87</td>\n",
       "      <td>127716.82</td>\n",
       "      <td>156122.51</td>\n",
       "    </tr>\n",
       "    <tr>\n",
       "      <th>7</th>\n",
       "      <td>130298.13</td>\n",
       "      <td>145530.06</td>\n",
       "      <td>323876.68</td>\n",
       "      <td>155752.60</td>\n",
       "    </tr>\n",
       "    <tr>\n",
       "      <th>8</th>\n",
       "      <td>120542.52</td>\n",
       "      <td>148718.95</td>\n",
       "      <td>311613.29</td>\n",
       "      <td>152211.77</td>\n",
       "    </tr>\n",
       "    <tr>\n",
       "      <th>9</th>\n",
       "      <td>123334.88</td>\n",
       "      <td>108679.17</td>\n",
       "      <td>304981.62</td>\n",
       "      <td>149759.96</td>\n",
       "    </tr>\n",
       "  </tbody>\n",
       "</table>\n",
       "</div>"
      ],
      "text/plain": [
       "   Marketing Spend  Administration  Transport     Profit\n",
       "0        114523.61       136897.80  471784.10  192261.83\n",
       "1        162597.70       151377.59  443898.53  191792.06\n",
       "2        153441.51       101145.55  407934.54  191050.39\n",
       "3        144372.41       118671.85  383199.62  182901.99\n",
       "4        142107.34        91391.77  366168.42  166187.94\n",
       "5        131876.90        99814.71  362861.36  156991.12\n",
       "6        134615.46       147198.87  127716.82  156122.51\n",
       "7        130298.13       145530.06  323876.68  155752.60\n",
       "8        120542.52       148718.95  311613.29  152211.77\n",
       "9        123334.88       108679.17  304981.62  149759.96"
      ]
     },
     "execution_count": 3,
     "metadata": {},
     "output_type": "execute_result"
    }
   ],
   "source": [
    "# # binarize Day of Week to -1 for weekend and 1 for weekday\n",
    "# df.loc[df['Area']=='Weekend', 'Day of Week']=-1\n",
    "# df.loc[df['Area']=='Weekday', 'Day of Week']=1\n",
    "\n",
    "# # binarize smoker to -1 for yes and 1 for no\n",
    "# df.loc[df['smoker']=='yes', 'smoker']=-1\n",
    "# df.loc[df['smoker']=='no', 'smoker']=1\n",
    "\n",
    "# Remove Building Type\n",
    "if 'Area' in df.columns:\n",
    "    df = df.drop(['Area'], axis=1)\n",
    "df.head(10)"
   ]
  },
  {
   "cell_type": "markdown",
   "id": "a1ccb067-98c7-4e4d-9861-ddafd2528e8c",
   "metadata": {},
   "source": [
    "# Linear Regression"
   ]
  },
  {
   "cell_type": "code",
   "execution_count": 5,
   "id": "d4472859-5f49-4930-8abb-1607a37dc383",
   "metadata": {},
   "outputs": [
    {
     "name": "stdout",
     "output_type": "stream",
     "text": [
      "Index(['Marketing Spend', 'Administration', 'Transport'], dtype='object')\n"
     ]
    }
   ],
   "source": [
    "# Choose features to predict\n",
    "features = df.columns[:-1]\n",
    "X, y = df[features].to_numpy(), df[['Profit']].to_numpy()\n",
    "print(features)"
   ]
  },
  {
   "cell_type": "code",
   "execution_count": null,
   "id": "705d994b-5a29-4ad3-ad51-8489ad145221",
   "metadata": {
    "scrolled": true
   },
   "outputs": [],
   "source": [
    "model = LinearRegression(lr=1e-12, eps=1e-5)\n",
    "model.fit(X, y)\n",
    "y_pred = model.predict(X)\n",
    "print(f'R-squared: {model.score(y, y_pred):.4f}')"
   ]
  },
  {
   "cell_type": "code",
   "execution_count": null,
   "id": "eb528ab1-dc6e-446c-83d8-f11c12093eef",
   "metadata": {},
   "outputs": [],
   "source": [
    "from sklearn.linear_model import SGDRegressor\n",
    "sgd = SGDRegressor(max_iter=10000, learning_rate='constant', eta0=1e-12, random_state=42)\n",
    "sgd.fit(X, y)\n",
    "sgd.score(X, y)\n",
    "# sgd.coef_"
   ]
  },
  {
   "cell_type": "code",
   "execution_count": null,
   "id": "7de5a434-4589-4c06-9e19-4bc35fc7c8a5",
   "metadata": {},
   "outputs": [],
   "source": [
    "# Evolution of the cost function\n",
    "model.plot()"
   ]
  },
  {
   "cell_type": "code",
   "execution_count": null,
   "id": "4684d611-3e65-44ba-ac55-8c248f9d6bf1",
   "metadata": {},
   "outputs": [],
   "source": [
    "model.featureimportance(names=features)\n",
    "model.best_params"
   ]
  },
  {
   "cell_type": "code",
   "execution_count": null,
   "id": "d0eb71f9-2c03-4c3b-8cbe-14c911025b14",
   "metadata": {},
   "outputs": [],
   "source": [
    "def plot_mse(y_pred, y_gt, threshold=0):\n",
    "    error = np.abs(y_pred-y_gt)\n",
    "\n",
    "    plt.figure(figsize=(30,10))\n",
    "    plt.stem(error, linefmt='navy')\n",
    "    plt.hlines(threshold, 0, y_pred.shape[0], lw=2, ls=':', color='darkorange')\n",
    "    plt.ylabel('|y_pred-y_gt|')\n",
    "    plt.show()"
   ]
  },
  {
   "cell_type": "code",
   "execution_count": null,
   "id": "79dcfc99-9593-4d78-bae9-c6942a1a5244",
   "metadata": {},
   "outputs": [],
   "source": [
    "y_pred = model.predict(X)"
   ]
  },
  {
   "cell_type": "code",
   "execution_count": null,
   "id": "f1f07962-4b0d-40d2-9c56-ed4b7f924dbc",
   "metadata": {},
   "outputs": [],
   "source": [
    "plot_mse(y_pred, y)"
   ]
  },
  {
   "cell_type": "code",
   "execution_count": null,
   "id": "25ca5b55-91dc-4da7-831e-dc85961fa54f",
   "metadata": {},
   "outputs": [],
   "source": [
    "model.plot_actualVSpredicted(y,y_pred)"
   ]
  },
  {
   "cell_type": "markdown",
   "id": "d390a2a1-8724-4f49-9b69-774ad1f5bb4f",
   "metadata": {},
   "source": [
    "## STANDARDISATION"
   ]
  },
  {
   "cell_type": "code",
   "execution_count": 6,
   "id": "81fed32f-eb35-4148-b9c6-8b5245a3cbaa",
   "metadata": {},
   "outputs": [
    {
     "name": "stdout",
     "output_type": "stream",
     "text": [
      "\n",
      "--- Itération 0 ---\n",
      "MSE = NAN\n",
      "\n",
      "Fit process ended with success\n",
      "MSE = nan\n",
      "\n",
      "R-squared: nan\n"
     ]
    },
    {
     "name": "stderr",
     "output_type": "stream",
     "text": [
      "C:\\Appli\\industrie4.0\\conda\\envs\\ms\\Lib\\site-packages\\LinearRegression\\LinearRegression.py:86: RuntimeWarning: invalid value encountered in divide\n",
      "  return (X - np.min(X, axis=0))/(np.max(X, axis=0)-np.min(X, axis=0))\n"
     ]
    }
   ],
   "source": [
    "model = LinearRegression(lr=1e-12, eps=1e-5)\n",
    "model.fit(X, y, standardize=True)\n",
    "y_pred = model.predict(X)\n",
    "print(f'R-squared: {model.score(y, y_pred):.4f}')"
   ]
  },
  {
   "cell_type": "code",
   "execution_count": null,
   "id": "adbf40e7-58f5-430f-9401-6c2b0bf433b9",
   "metadata": {},
   "outputs": [],
   "source": [
    "pd.DataFrame((X - np.mean(X, axis=0)) / np.std(X, axis=0)).head()"
   ]
  },
  {
   "cell_type": "code",
   "execution_count": null,
   "id": "ab372bbc-b9ef-4943-aa4d-85bed4fd1b8c",
   "metadata": {},
   "outputs": [],
   "source": [
    "# MinMaxScaler\n",
    "pd.DataFrame((X - np.min(X, axis=0))/(np.max(X, axis=0)-np.min(X, axis=0))).min()"
   ]
  },
  {
   "cell_type": "code",
   "execution_count": null,
   "id": "3497c395-2baf-42bf-a16d-c4f94cfc8ecd",
   "metadata": {},
   "outputs": [],
   "source": []
  }
 ],
 "metadata": {
  "kernelspec": {
   "display_name": "Python 3 (ipykernel)",
   "language": "python",
   "name": "python3"
  },
  "language_info": {
   "codemirror_mode": {
    "name": "ipython",
    "version": 3
   },
   "file_extension": ".py",
   "mimetype": "text/x-python",
   "name": "python",
   "nbconvert_exporter": "python",
   "pygments_lexer": "ipython3",
   "version": "3.12.5"
  }
 },
 "nbformat": 4,
 "nbformat_minor": 5
}
