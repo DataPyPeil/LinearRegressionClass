{
 "cells": [
  {
   "cell_type": "markdown",
   "id": "8e354af7-7ebb-45b5-8048-53191009df0f",
   "metadata": {},
   "source": [
    "# TOY DATASET"
   ]
  },
  {
   "cell_type": "code",
   "execution_count": null,
   "id": "4b808d8f-f959-42c6-b5ee-70edb99aad1e",
   "metadata": {},
   "outputs": [],
   "source": [
    "import numpy as np\n",
    "import pandas as pd\n",
    "import matplotlib.pyplot as plt\n",
    "from LinearRegression import LinearRegression"
   ]
  },
  {
   "cell_type": "code",
   "execution_count": null,
   "id": "f7e7ba8f-a9f4-433a-9303-6e3471e9582a",
   "metadata": {},
   "outputs": [],
   "source": [
    "x1 = np.linspace(10,30,50)\n",
    "x2 = np.linspace(10,30,50)\n",
    "noise = np.random.random(50)*20\n",
    "y = (-2*x1 + -5*x2 + noise).reshape(-1,1)\n",
    "X = pd.DataFrame(data={'x1':x1,'x2':x2})"
   ]
  },
  {
   "cell_type": "markdown",
   "id": "1c04f596-e8e4-4ed9-a008-abc2723d1f58",
   "metadata": {},
   "source": [
    "### LinearRegression CLASSIC"
   ]
  },
  {
   "cell_type": "code",
   "execution_count": null,
   "id": "e9bd54e7-8880-4aeb-95db-cc119ea7d783",
   "metadata": {
    "scrolled": true
   },
   "outputs": [],
   "source": [
    "model = LinearRegression(lr=1e-3, eps=1e-8)\n",
    "model.fit(X, y)\n",
    "y_pred = model.predict(X)\n",
    "print(f'R-squared without normalisation: {model.score(y, y_pred):.4f}')\n",
    "print(f'\\nModel coefficients:\\n{model.best_params}')\n",
    "\n",
    "plt.figure(figsize=(18,5))\n",
    "plt.suptitle('Training summary')\n",
    "plt.subplot(1,3,1)\n",
    "model.plot_actualVSpredicted(y, y_pred)\n",
    "plt.subplot(1,3,2)\n",
    "model.plot()\n",
    "plt.subplot(1,3,3)\n",
    "model.featureimportance()\n",
    "plt.tight_layout()\n",
    "plt.show()"
   ]
  },
  {
   "cell_type": "markdown",
   "id": "0da459cd-fc3c-4809-976d-c15abdddbcad",
   "metadata": {},
   "source": [
    "### LinearRegression + NORMALISATION"
   ]
  },
  {
   "cell_type": "code",
   "execution_count": null,
   "id": "e3e0d442-1ceb-44bc-bee3-d89a4993f527",
   "metadata": {},
   "outputs": [],
   "source": [
    "model = LinearRegression(lr=1e-3, eps=1e-8)\n",
    "model.fit(X, y, standardize=True)\n",
    "y_pred = model.predict(X)\n",
    "print(f'R-squared after Normalisation: {model.score(y, y_pred):.4f}')\n",
    "\n",
    "plt.figure(figsize=(18,5))\n",
    "plt.suptitle('Training summary')\n",
    "plt.subplot(1,3,1)\n",
    "model.plot_actualVSpredicted(y, y_pred)\n",
    "plt.subplot(1,3,2)\n",
    "model.plot()\n",
    "plt.subplot(1,3,3)\n",
    "model.featureimportance()\n",
    "plt.tight_layout()\n",
    "plt.show()"
   ]
  },
  {
   "cell_type": "markdown",
   "id": "85b36ee7-b096-49e7-8686-35b349794fac",
   "metadata": {},
   "source": [
    "### LinearRegression + REGULARISATION"
   ]
  },
  {
   "cell_type": "code",
   "execution_count": null,
   "id": "6d18a93d-e2db-4e29-92b9-6d6fbc40ad98",
   "metadata": {},
   "outputs": [],
   "source": [
    "model = LinearRegression(lr=1e-3, eps=1e-8)\n",
    "model.fit(X, y, standardize=True, regularization='LASSO')\n",
    "y_pred = model.predict(X)\n",
    "print(f'R-squared after Regularisation: {model.score(y, y_pred):.4f}')\n",
    "\n",
    "plt.figure(figsize=(18,5))\n",
    "plt.suptitle('Training summary')\n",
    "plt.subplot(1,3,1)\n",
    "model.plot_actualVSpredicted(y, y_pred)\n",
    "plt.subplot(1,3,2)\n",
    "model.plot()\n",
    "plt.subplot(1,3,3)\n",
    "model.featureimportance()\n",
    "plt.tight_layout()\n",
    "plt.show()"
   ]
  },
  {
   "cell_type": "code",
   "execution_count": null,
   "id": "0adf2e01-6e90-4556-b108-d4ada8aec9f4",
   "metadata": {},
   "outputs": [],
   "source": []
  }
 ],
 "metadata": {
  "kernelspec": {
   "display_name": "Python 3 (ipykernel)",
   "language": "python",
   "name": "python3"
  },
  "language_info": {
   "codemirror_mode": {
    "name": "ipython",
    "version": 3
   },
   "file_extension": ".py",
   "mimetype": "text/x-python",
   "name": "python",
   "nbconvert_exporter": "python",
   "pygments_lexer": "ipython3",
   "version": "3.12.5"
  }
 },
 "nbformat": 4,
 "nbformat_minor": 5
}
