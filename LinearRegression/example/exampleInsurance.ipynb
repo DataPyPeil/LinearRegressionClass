{
 "cells": [
  {
   "cell_type": "code",
   "execution_count": null,
   "id": "2ad1ec9e-5e88-4f7e-85c2-78ba5861d933",
   "metadata": {},
   "outputs": [],
   "source": [
    "import pandas as pd\n",
    "import numpy as np\n",
    "import seaborn as sns\n",
    "import matplotlib.pyplot as plt\n",
    "from pathlib import Path\n",
    "from LinearRegression import LinearRegression"
   ]
  },
  {
   "cell_type": "code",
   "execution_count": null,
   "id": "f0fdfa73-53d3-4382-aff9-77496b084176",
   "metadata": {},
   "outputs": [],
   "source": [
    "data_path = Path.cwd()\n",
    "df = pd.read_csv(data_path / 'test_energy_data.csv')\n",
    "df.head(10)"
   ]
  },
  {
   "cell_type": "markdown",
   "id": "27667f6d-5c3c-493d-aac4-fd251062ba30",
   "metadata": {},
   "source": [
    "## Visualize data"
   ]
  },
  {
   "cell_type": "code",
   "execution_count": null,
   "id": "a83320fe-d349-4945-85d3-b40900c66452",
   "metadata": {},
   "outputs": [],
   "source": [
    "sns.pairplot(df, hue='Day of Week')"
   ]
  },
  {
   "cell_type": "code",
   "execution_count": null,
   "id": "5c193a71-f3b0-482a-8095-e1325f3b4523",
   "metadata": {},
   "outputs": [],
   "source": [
    "numeric_df = df.select_dtypes(include=[np.number])\n",
    "sns.heatmap(numeric_df.corr(), annot=True, cmap='coolwarm')"
   ]
  },
  {
   "cell_type": "markdown",
   "id": "052c3adb-45fc-44a1-b739-36b597f40278",
   "metadata": {},
   "source": [
    "# Prepare data"
   ]
  },
  {
   "cell_type": "code",
   "execution_count": null,
   "id": "b0285a6f-fb04-42dc-8a31-2670c99dd86c",
   "metadata": {},
   "outputs": [],
   "source": [
    "# binarize Day of Week to -1 for weekend and 1 for weekday\n",
    "df.loc[df['Day of Week']=='Weekend', 'Day of Week']=-1\n",
    "df.loc[df['Day of Week']=='Weekday', 'Day of Week']=1\n",
    "\n",
    "# # binarize smoker to -1 for yes and 1 for no\n",
    "# df.loc[df['smoker']=='yes', 'smoker']=-1\n",
    "# df.loc[df['smoker']=='no', 'smoker']=1\n",
    "\n",
    "# Remove Building Type\n",
    "if 'Building Type' in df.columns:\n",
    "    df = df.drop(['Building Type'], axis=1)\n",
    "df.head(10)"
   ]
  },
  {
   "cell_type": "markdown",
   "id": "a1ccb067-98c7-4e4d-9861-ddafd2528e8c",
   "metadata": {},
   "source": [
    "# Linear Regression"
   ]
  },
  {
   "cell_type": "code",
   "execution_count": null,
   "id": "d4472859-5f49-4930-8abb-1607a37dc383",
   "metadata": {},
   "outputs": [],
   "source": [
    "# Choose features to predict\n",
    "features = df.columns[:2]\n",
    "X, y = df[features].to_numpy(), df[['Energy Consumption']].to_numpy()"
   ]
  },
  {
   "cell_type": "code",
   "execution_count": null,
   "id": "1a1624c4-e9f7-4c54-b581-d47b88e15838",
   "metadata": {},
   "outputs": [],
   "source": [
    "model = LinearRegression(X=X, y_gt=y, lr=1e-9, eps=1e-6)"
   ]
  },
  {
   "cell_type": "code",
   "execution_count": null,
   "id": "705d994b-5a29-4ad3-ad51-8489ad145221",
   "metadata": {
    "scrolled": true
   },
   "outputs": [],
   "source": [
    "model.fit()\n",
    "print(f'R-squared: {model.score():.04f}')"
   ]
  },
  {
   "cell_type": "code",
   "execution_count": null,
   "id": "4684d611-3e65-44ba-ac55-8c248f9d6bf1",
   "metadata": {},
   "outputs": [],
   "source": [
    "model.plot_featureimportance(names=features)"
   ]
  },
  {
   "cell_type": "code",
   "execution_count": null,
   "id": "d0eb71f9-2c03-4c3b-8cbe-14c911025b14",
   "metadata": {},
   "outputs": [],
   "source": [
    "def plot_mse(y_pred, y_gt, threshold=0):\n",
    "    error = np.abs(y_pred-y_gt)\n",
    "\n",
    "    plt.figure(figsize=(30,10))\n",
    "    plt.stem(error, linefmt='navy')\n",
    "    plt.hlines(threshold, 0, y_pred.shape[0], lw=2, ls=':', color='darkorange')\n",
    "    plt.ylabel('|y_pred-y_gt|')\n",
    "    plt.show()"
   ]
  },
  {
   "cell_type": "code",
   "execution_count": null,
   "id": "79dcfc99-9593-4d78-bae9-c6942a1a5244",
   "metadata": {},
   "outputs": [],
   "source": [
    "y_pred = model.predict()"
   ]
  },
  {
   "cell_type": "code",
   "execution_count": null,
   "id": "f1f07962-4b0d-40d2-9c56-ed4b7f924dbc",
   "metadata": {},
   "outputs": [],
   "source": [
    "plot_mse(y_pred, y)"
   ]
  },
  {
   "cell_type": "code",
   "execution_count": null,
   "id": "25ca5b55-91dc-4da7-831e-dc85961fa54f",
   "metadata": {},
   "outputs": [],
   "source": []
  }
 ],
 "metadata": {
  "kernelspec": {
   "display_name": "Python 3 (ipykernel)",
   "language": "python",
   "name": "python3"
  },
  "language_info": {
   "codemirror_mode": {
    "name": "ipython",
    "version": 3
   },
   "file_extension": ".py",
   "mimetype": "text/x-python",
   "name": "python",
   "nbconvert_exporter": "python",
   "pygments_lexer": "ipython3",
   "version": "3.12.5"
  }
 },
 "nbformat": 4,
 "nbformat_minor": 5
}
